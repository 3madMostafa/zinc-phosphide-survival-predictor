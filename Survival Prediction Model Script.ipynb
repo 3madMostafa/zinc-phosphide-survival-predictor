{
 "cells": [
  {
   "cell_type": "markdown",
   "id": "97679e12",
   "metadata": {},
   "source": [
    "📂 1. Import Libraries"
   ]
  },
  {
   "cell_type": "code",
   "execution_count": 3,
   "id": "92a968b7",
   "metadata": {},
   "outputs": [],
   "source": [
    "import pandas as pd\n",
    "import numpy as np\n",
    "from sklearn.model_selection import train_test_split\n",
    "from sklearn.ensemble import RandomForestClassifier\n",
    "from sklearn.metrics import classification_report\n",
    "from sklearn.preprocessing import LabelEncoder\n",
    "from sklearn.utils import resample\n",
    "import matplotlib.pyplot as plt\n",
    "import pickle\n"
   ]
  },
  {
   "cell_type": "markdown",
   "id": "9b59f093",
   "metadata": {},
   "source": [
    "📂 2. Load Data"
   ]
  },
  {
   "cell_type": "code",
   "execution_count": 4,
   "id": "6f8312b0",
   "metadata": {},
   "outputs": [
    {
     "name": "stdout",
     "output_type": "stream",
     "text": [
      "Data loaded successfully. Shape: (66, 78)\n"
     ]
    },
    {
     "data": {
      "text/html": [
       "<div>\n",
       "<style scoped>\n",
       "    .dataframe tbody tr th:only-of-type {\n",
       "        vertical-align: middle;\n",
       "    }\n",
       "\n",
       "    .dataframe tbody tr th {\n",
       "        vertical-align: top;\n",
       "    }\n",
       "\n",
       "    .dataframe thead th {\n",
       "        text-align: right;\n",
       "    }\n",
       "</style>\n",
       "<table border=\"1\" class=\"dataframe\">\n",
       "  <thead>\n",
       "    <tr style=\"text-align: right;\">\n",
       "      <th></th>\n",
       "      <th>No</th>\n",
       "      <th>poison severity score</th>\n",
       "      <th>NE_given (Norepinephrine)</th>\n",
       "      <th>NaHCO3_given (Sodium Bicarbonate)</th>\n",
       "      <th>Age (in years)</th>\n",
       "      <th>Sex (1=Male, 2=Female)</th>\n",
       "      <th>Time_since_exposure (1=0.5-1h, 2=1-3h, 3=&gt;3h)</th>\n",
       "      <th>Exposure_condition (1=Newly opened, 2=Exposed to moisture)</th>\n",
       "      <th>Delivery_method (1=Ingested directly, 2=Dissolved in water, 3=On food)</th>\n",
       "      <th>Dose_taken (in sachets)</th>\n",
       "      <th>...</th>\n",
       "      <th>NLR_interpret</th>\n",
       "      <th>Platelets (x10^3)</th>\n",
       "      <th>PLR (Platelet-to-Lymph Ratio)</th>\n",
       "      <th>PLR_interpret</th>\n",
       "      <th>Survival (1=Survived, 0=Died)</th>\n",
       "      <th>Hospital_stay_days</th>\n",
       "      <th>Ventilation_days</th>\n",
       "      <th>ICU_stay_days</th>\n",
       "      <th>Need_vasopressors (1=Yes, 0=No)</th>\n",
       "      <th>NE_total_dose_at_discharge</th>\n",
       "    </tr>\n",
       "  </thead>\n",
       "  <tbody>\n",
       "    <tr>\n",
       "      <th>0</th>\n",
       "      <td>1</td>\n",
       "      <td>1</td>\n",
       "      <td>0</td>\n",
       "      <td>0</td>\n",
       "      <td>29.0</td>\n",
       "      <td>1</td>\n",
       "      <td>1</td>\n",
       "      <td>1</td>\n",
       "      <td>2</td>\n",
       "      <td>1.00</td>\n",
       "      <td>...</td>\n",
       "      <td>3</td>\n",
       "      <td>287</td>\n",
       "      <td>134.230</td>\n",
       "      <td>1</td>\n",
       "      <td>1</td>\n",
       "      <td>2</td>\n",
       "      <td>0</td>\n",
       "      <td>0</td>\n",
       "      <td>0</td>\n",
       "      <td>0</td>\n",
       "    </tr>\n",
       "    <tr>\n",
       "      <th>1</th>\n",
       "      <td>2</td>\n",
       "      <td>1</td>\n",
       "      <td>0</td>\n",
       "      <td>0</td>\n",
       "      <td>18.0</td>\n",
       "      <td>2</td>\n",
       "      <td>1</td>\n",
       "      <td>1</td>\n",
       "      <td>2</td>\n",
       "      <td>1.00</td>\n",
       "      <td>...</td>\n",
       "      <td>1</td>\n",
       "      <td>267</td>\n",
       "      <td>117.828</td>\n",
       "      <td>1</td>\n",
       "      <td>1</td>\n",
       "      <td>2</td>\n",
       "      <td>0</td>\n",
       "      <td>0</td>\n",
       "      <td>0</td>\n",
       "      <td>0</td>\n",
       "    </tr>\n",
       "    <tr>\n",
       "      <th>2</th>\n",
       "      <td>3</td>\n",
       "      <td>1</td>\n",
       "      <td>0</td>\n",
       "      <td>0</td>\n",
       "      <td>19.0</td>\n",
       "      <td>1</td>\n",
       "      <td>3</td>\n",
       "      <td>1</td>\n",
       "      <td>1</td>\n",
       "      <td>1.00</td>\n",
       "      <td>...</td>\n",
       "      <td>1</td>\n",
       "      <td>289</td>\n",
       "      <td>129.420</td>\n",
       "      <td>1</td>\n",
       "      <td>1</td>\n",
       "      <td>3</td>\n",
       "      <td>0</td>\n",
       "      <td>0</td>\n",
       "      <td>0</td>\n",
       "      <td>0</td>\n",
       "    </tr>\n",
       "    <tr>\n",
       "      <th>3</th>\n",
       "      <td>4</td>\n",
       "      <td>1</td>\n",
       "      <td>0</td>\n",
       "      <td>0</td>\n",
       "      <td>21.0</td>\n",
       "      <td>2</td>\n",
       "      <td>2</td>\n",
       "      <td>1</td>\n",
       "      <td>1</td>\n",
       "      <td>1.00</td>\n",
       "      <td>...</td>\n",
       "      <td>1</td>\n",
       "      <td>281</td>\n",
       "      <td>104.400</td>\n",
       "      <td>1</td>\n",
       "      <td>1</td>\n",
       "      <td>2</td>\n",
       "      <td>0</td>\n",
       "      <td>0</td>\n",
       "      <td>0</td>\n",
       "      <td>0</td>\n",
       "    </tr>\n",
       "    <tr>\n",
       "      <th>4</th>\n",
       "      <td>5</td>\n",
       "      <td>1</td>\n",
       "      <td>0</td>\n",
       "      <td>0</td>\n",
       "      <td>15.0</td>\n",
       "      <td>2</td>\n",
       "      <td>2</td>\n",
       "      <td>1</td>\n",
       "      <td>1</td>\n",
       "      <td>0.25</td>\n",
       "      <td>...</td>\n",
       "      <td>1</td>\n",
       "      <td>300</td>\n",
       "      <td>127.060</td>\n",
       "      <td>1</td>\n",
       "      <td>1</td>\n",
       "      <td>3</td>\n",
       "      <td>0</td>\n",
       "      <td>0</td>\n",
       "      <td>0</td>\n",
       "      <td>0</td>\n",
       "    </tr>\n",
       "  </tbody>\n",
       "</table>\n",
       "<p>5 rows × 78 columns</p>\n",
       "</div>"
      ],
      "text/plain": [
       "   No  poison severity score   NE_given (Norepinephrine)  \\\n",
       "0   1                       1                          0   \n",
       "1   2                       1                          0   \n",
       "2   3                       1                          0   \n",
       "3   4                       1                          0   \n",
       "4   5                       1                          0   \n",
       "\n",
       "   NaHCO3_given (Sodium Bicarbonate)  Age (in years)  Sex (1=Male, 2=Female)  \\\n",
       "0                                  0            29.0                       1   \n",
       "1                                  0            18.0                       2   \n",
       "2                                  0            19.0                       1   \n",
       "3                                  0            21.0                       2   \n",
       "4                                  0            15.0                       2   \n",
       "\n",
       "   Time_since_exposure (1=0.5-1h, 2=1-3h, 3=>3h)  \\\n",
       "0                                              1   \n",
       "1                                              1   \n",
       "2                                              3   \n",
       "3                                              2   \n",
       "4                                              2   \n",
       "\n",
       "   Exposure_condition (1=Newly opened, 2=Exposed to moisture)  \\\n",
       "0                                                  1            \n",
       "1                                                  1            \n",
       "2                                                  1            \n",
       "3                                                  1            \n",
       "4                                                  1            \n",
       "\n",
       "   Delivery_method (1=Ingested directly, 2=Dissolved in water, 3=On food)  \\\n",
       "0                                                  2                        \n",
       "1                                                  2                        \n",
       "2                                                  1                        \n",
       "3                                                  1                        \n",
       "4                                                  1                        \n",
       "\n",
       "   Dose_taken (in sachets)  ...  NLR_interpret  Platelets (x10^3)   \\\n",
       "0                     1.00  ...              3                 287   \n",
       "1                     1.00  ...              1                 267   \n",
       "2                     1.00  ...              1                 289   \n",
       "3                     1.00  ...              1                 281   \n",
       "4                     0.25  ...              1                 300   \n",
       "\n",
       "   PLR (Platelet-to-Lymph Ratio)  PLR_interpret  \\\n",
       "0                        134.230              1   \n",
       "1                        117.828              1   \n",
       "2                        129.420              1   \n",
       "3                        104.400              1   \n",
       "4                        127.060              1   \n",
       "\n",
       "  Survival (1=Survived, 0=Died)   Hospital_stay_days Ventilation_days  \\\n",
       "0                              1                   2                0   \n",
       "1                              1                   2                0   \n",
       "2                              1                   3                0   \n",
       "3                              1                   2                0   \n",
       "4                              1                   3                0   \n",
       "\n",
       "   ICU_stay_days Need_vasopressors (1=Yes, 0=No)  NE_total_dose_at_discharge  \n",
       "0              0                               0                           0  \n",
       "1              0                               0                           0  \n",
       "2              0                               0                           0  \n",
       "3              0                               0                           0  \n",
       "4              0                               0                           0  \n",
       "\n",
       "[5 rows x 78 columns]"
      ]
     },
     "execution_count": 4,
     "metadata": {},
     "output_type": "execute_result"
    }
   ],
   "source": [
    "# Define file path\n",
    "file_path = \"zincphosph1.xlsx\"  # Change this path if needed\n",
    "\n",
    "# Read all sheets from Excel file\n",
    "xls = pd.ExcelFile(file_path)\n",
    "sheet_names = xls.sheet_names\n",
    "\n",
    "# Concatenate all sheets into one DataFrame\n",
    "dfs = [pd.read_excel(xls, sheet_name=sheet) for sheet in sheet_names]\n",
    "df_full = pd.concat(dfs, axis=1)\n",
    "\n",
    "print(\"Data loaded successfully. Shape:\", df_full.shape)\n",
    "df_full.head()\n"
   ]
  },
  {
   "cell_type": "markdown",
   "id": "31492035",
   "metadata": {},
   "source": [
    "🧹 3. Data Preparation"
   ]
  },
  {
   "cell_type": "code",
   "execution_count": 5,
   "metadata": {},
   "outputs": [
    {
     "name": "stdout",
     "output_type": "stream",
     "text": [
      "Data prepared. Features shape: (66, 77)\n"
     ]
    }
   ],
   "source": [
    "# Define target column\n",
    "target_col = \"Survival (1=Survived, 0=Died) \"\n",
    "\n",
    "# Split features and target\n",
    "y = df_full[target_col]\n",
    "X = df_full.drop(columns=[target_col])\n",
    "\n",
    "# Remove duplicate columns if any\n",
    "X = X.loc[:, ~X.columns.duplicated()]\n",
    "\n",
    "# Fill missing values with placeholder\n",
    "X = X.fillna(-999)\n",
    "\n",
    "print(\"Data prepared. Features shape:\", X.shape)\n"
   ]
  },
  {
   "cell_type": "markdown",
   "id": "40c4369e",
   "metadata": {},
   "source": [
    "🔄 4. Encode Categorical Features"
   ]
  },
  {
   "cell_type": "code",
   "execution_count": 6,
   "metadata": {},
   "outputs": [
    {
     "name": "stdout",
     "output_type": "stream",
     "text": [
      "Categorical features encoded.\n"
     ]
    }
   ],
   "source": [
    "X_encoded = X.copy()\n",
    "\n",
    "# Encode categorical (object) columns\n",
    "for col in X_encoded.columns:\n",
    "    if X_encoded[col].dtype == 'object':\n",
    "        le = LabelEncoder()\n",
    "        X_encoded[col] = le.fit_transform(X_encoded[col].astype(str))\n",
    "\n",
    "print(\"Categorical features encoded.\")\n"
   ]
  },
  {
   "cell_type": "markdown",
   "id": "26575552",
   "metadata": {},
   "source": [
    "🧪 5. Balance Classes with Upsampling"
   ]
  },
  {
   "cell_type": "code",
   "execution_count": 7,
   "metadata": {},
   "outputs": [
    {
     "name": "stdout",
     "output_type": "stream",
     "text": [
      "Dataset balanced. New class distribution:\n",
      "Survival\n",
      "1    65\n",
      "0    65\n",
      "Name: count, dtype: int64\n"
     ]
    }
   ],
   "source": [
    "# Combine features and target\n",
    "df_model = X_encoded.copy()\n",
    "df_model['Survival'] = y.values\n",
    "\n",
    "# Separate majority and minority classes\n",
    "df_survived = df_model[df_model['Survival'] == 1]\n",
    "df_died = df_model[df_model['Survival'] == 0]\n",
    "\n",
    "# Upsample minority class\n",
    "df_died_upsampled = resample(\n",
    "    df_died,\n",
    "    replace=True,\n",
    "    n_samples=len(df_survived),  # Match the majority class\n",
    "    random_state=42\n",
    ")\n",
    "\n",
    "# Combine into balanced dataset\n",
    "df_balanced = pd.concat([df_survived, df_died_upsampled])\n",
    "\n",
    "X_balanced = df_balanced.drop(columns=['Survival'])\n",
    "y_balanced = df_balanced['Survival']\n",
    "\n",
    "print(\"Dataset balanced. New class distribution:\")\n",
    "print(y_balanced.value_counts())\n"
   ]
  },
  {
   "cell_type": "markdown",
   "id": "280afe1d",
   "metadata": {},
   "source": [
    "✂️ 6. Train/Test Split"
   ]
  },
  {
   "cell_type": "code",
   "execution_count": 8,
   "id": "43964057",
   "metadata": {},
   "outputs": [
    {
     "name": "stdout",
     "output_type": "stream",
     "text": [
      "Data split: Train = (104, 77), Test = (26, 77)\n"
     ]
    }
   ],
   "source": [
    "X_train, X_test, y_train, y_test = train_test_split(\n",
    "    X_balanced, y_balanced, test_size=0.2, random_state=42\n",
    ")\n",
    "\n",
    "print(f\"Data split: Train = {X_train.shape}, Test = {X_test.shape}\")\n"
   ]
  },
  {
   "cell_type": "markdown",
   "id": "d1048d1e",
   "metadata": {},
   "source": [
    "🌳 7. Train the Random Forest Model"
   ]
  },
  {
   "cell_type": "code",
   "execution_count": 9,
   "id": "4d695074",
   "metadata": {},
   "outputs": [
    {
     "name": "stdout",
     "output_type": "stream",
     "text": [
      "Model training completed.\n"
     ]
    }
   ],
   "source": [
    "# Initialize and train the model\n",
    "model = RandomForestClassifier(n_estimators=100, random_state=42)\n",
    "model.fit(X_train, y_train)\n",
    "\n",
    "print(\"Model training completed.\")\n"
   ]
  },
  {
   "cell_type": "markdown",
   "id": "4547c459",
   "metadata": {},
   "source": [
    "📊 8. Evaluate the Model"
   ]
  },
  {
   "cell_type": "code",
   "execution_count": 10,
   "id": "39792bc2",
   "metadata": {},
   "outputs": [
    {
     "name": "stdout",
     "output_type": "stream",
     "text": [
      "Classification Report:\n"
     ]
    },
    {
     "data": {
      "text/html": [
       "<div>\n",
       "<style scoped>\n",
       "    .dataframe tbody tr th:only-of-type {\n",
       "        vertical-align: middle;\n",
       "    }\n",
       "\n",
       "    .dataframe tbody tr th {\n",
       "        vertical-align: top;\n",
       "    }\n",
       "\n",
       "    .dataframe thead th {\n",
       "        text-align: right;\n",
       "    }\n",
       "</style>\n",
       "<table border=\"1\" class=\"dataframe\">\n",
       "  <thead>\n",
       "    <tr style=\"text-align: right;\">\n",
       "      <th></th>\n",
       "      <th>precision</th>\n",
       "      <th>recall</th>\n",
       "      <th>f1-score</th>\n",
       "      <th>support</th>\n",
       "    </tr>\n",
       "  </thead>\n",
       "  <tbody>\n",
       "    <tr>\n",
       "      <th>0</th>\n",
       "      <td>1.0</td>\n",
       "      <td>1.0</td>\n",
       "      <td>1.0</td>\n",
       "      <td>12.0</td>\n",
       "    </tr>\n",
       "    <tr>\n",
       "      <th>1</th>\n",
       "      <td>1.0</td>\n",
       "      <td>1.0</td>\n",
       "      <td>1.0</td>\n",
       "      <td>14.0</td>\n",
       "    </tr>\n",
       "    <tr>\n",
       "      <th>accuracy</th>\n",
       "      <td>1.0</td>\n",
       "      <td>1.0</td>\n",
       "      <td>1.0</td>\n",
       "      <td>1.0</td>\n",
       "    </tr>\n",
       "    <tr>\n",
       "      <th>macro avg</th>\n",
       "      <td>1.0</td>\n",
       "      <td>1.0</td>\n",
       "      <td>1.0</td>\n",
       "      <td>26.0</td>\n",
       "    </tr>\n",
       "    <tr>\n",
       "      <th>weighted avg</th>\n",
       "      <td>1.0</td>\n",
       "      <td>1.0</td>\n",
       "      <td>1.0</td>\n",
       "      <td>26.0</td>\n",
       "    </tr>\n",
       "  </tbody>\n",
       "</table>\n",
       "</div>"
      ],
      "text/plain": [
       "              precision  recall  f1-score  support\n",
       "0                   1.0     1.0       1.0     12.0\n",
       "1                   1.0     1.0       1.0     14.0\n",
       "accuracy            1.0     1.0       1.0      1.0\n",
       "macro avg           1.0     1.0       1.0     26.0\n",
       "weighted avg        1.0     1.0       1.0     26.0"
      ]
     },
     "execution_count": 10,
     "metadata": {},
     "output_type": "execute_result"
    }
   ],
   "source": [
    "# Make predictions\n",
    "y_pred = model.predict(X_test)\n",
    "\n",
    "# Generate classification report\n",
    "report = classification_report(y_test, y_pred, output_dict=True)\n",
    "report_df = pd.DataFrame(report).transpose()\n",
    "\n",
    "print(\"Classification Report:\")\n",
    "report_df\n"
   ]
  },
  {
   "cell_type": "markdown",
   "id": "0e4189c3",
   "metadata": {},
   "source": [
    "💾 9. Save Classification Report"
   ]
  },
  {
   "cell_type": "code",
   "execution_count": 11,
   "id": "5935534d",
   "metadata": {},
   "outputs": [
    {
     "name": "stdout",
     "output_type": "stream",
     "text": [
      "Classification report saved to 'classification_report.csv'\n"
     ]
    }
   ],
   "source": [
    "report_df.to_csv(\"classification_report.csv\")\n",
    "print(\"Classification report saved to 'classification_report.csv'\")\n"
   ]
  },
  {
   "cell_type": "markdown",
   "id": "d315e804",
   "metadata": {},
   "source": [
    "🔍 10. Feature Importance"
   ]
  },
  {
   "cell_type": "code",
   "execution_count": 12,
   "id": "6b7332c2",
   "metadata": {},
   "outputs": [
    {
     "data": {
      "image/png": "[encoded data removed]",
      "text/plain": [
       "<Figure size 1200x600 with 1 Axes>"
      ]
     },
     "metadata": {},
     "output_type": "display_data"
    },
    {
     "name": "stdout",
     "output_type": "stream",
     "text": [
      "Feature importance plot saved to 'feature_importance.png'\n"
     ]
    }
   ],
   "source": [
    "importances = model.feature_importances_\n",
    "feat_importance = pd.Series(importances, index=X_balanced.columns).sort_values(ascending=False)\n",
    "\n",
    "plt.figure(figsize=(12, 6))\n",
    "feat_importance.head(20).plot(kind='bar')\n",
    "plt.title(\"Top 20 Feature Importances\")\n",
    "plt.ylabel(\"Importance\")\n",
    "plt.tight_layout()\n",
    "plt.savefig(\"feature_importance.png\")\n",
    "plt.show()\n",
    "\n",
    "print(\"Feature importance plot saved to 'feature_importance.png'\")\n"
   ]
  },
  {
   "cell_type": "markdown",
   "id": "f58d3e65",
   "metadata": {},
   "source": [
    "💾 11. Save Trained Model"
   ]
  },
  {
   "cell_type": "code",
   "execution_count": 13,
   "id": "efc7a942",
   "metadata": {},
   "outputs": [
    {
     "name": "stdout",
     "output_type": "stream",
     "text": [
      "Trained model saved to 'model.pkl'\n"
     ]
    }
   ],
   "source": [
    "with open(\"model.pkl\", \"wb\") as f:\n",
    "    pickle.dump(model, f)\n",
    "\n",
    "print(\"Trained model saved to 'model.pkl'\")\n"
   ]
  },
  {
   "cell_type": "code",
   "execution_count": null,
   "id": "4bfb2c26",
   "metadata": {},
   "outputs": [],
   "source": []
  }
 ],
 "metadata": {
  "kernelspec": {
   "display_name": "Python 3",
   "language": "python",
   "name": "python3"
  },
  "language_info": {
   "codemirror_mode": {
    "name": "ipython",
    "version": 3
   },
   "file_extension": ".py",
   "mimetype": "text/x-python",
   "name": "python",
   "nbconvert_exporter": "python",
   "pygments_lexer": "ipython3",
   "version": "3.12.3"
  }
 },
 "nbformat": 4,
 "nbformat_minor": 5
}
