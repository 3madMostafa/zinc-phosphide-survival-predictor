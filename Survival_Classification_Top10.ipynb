{
 "cells": [
  {
   "cell_type": "markdown",
   "id": "d3828c08",
   "metadata": {},
   "source": [
    "# Survival Classification - Top 10 Features\n",
    "\n",
    "This notebook trains a Random Forest model on the top 10 most important features and evaluates its performance."
   ]
  },
  {
   "cell_type": "code",
   "execution_count": 1,
   "id": "781f586b",
   "metadata": {},
   "outputs": [],
   "source": [
    "import pandas as pd\n",
    "import numpy as np\n",
    "from sklearn.model_selection import train_test_split\n",
    "from sklearn.ensemble import RandomForestClassifier\n",
    "from sklearn.metrics import classification_report\n",
    "from sklearn.preprocessing import LabelEncoder\n",
    "from sklearn.utils import resample\n",
    "import matplotlib.pyplot as plt\n",
    "import pickle"
   ]
  },
  {
   "cell_type": "code",
   "execution_count": 2,
   "id": "0d4aef89",
   "metadata": {},
   "outputs": [
    {
     "name": "stdout",
     "output_type": "stream",
     "text": [
      "✅ Data loaded successfully. Shape: (66, 77)\n"
     ]
    },
    {
     "data": {
      "text/html": [
       "<div>\n",
       "<style scoped>\n",
       "    .dataframe tbody tr th:only-of-type {\n",
       "        vertical-align: middle;\n",
       "    }\n",
       "\n",
       "    .dataframe tbody tr th {\n",
       "        vertical-align: top;\n",
       "    }\n",
       "\n",
       "    .dataframe thead th {\n",
       "        text-align: right;\n",
       "    }\n",
       "</style>\n",
       "<table border=\"1\" class=\"dataframe\">\n",
       "  <thead>\n",
       "    <tr style=\"text-align: right;\">\n",
       "      <th></th>\n",
       "      <th>poison severity score</th>\n",
       "      <th>NE_given (Norepinephrine)</th>\n",
       "      <th>NaHCO3_given (Sodium Bicarbonate)</th>\n",
       "      <th>Age (in years)</th>\n",
       "      <th>Sex (1=Male, 2=Female)</th>\n",
       "      <th>Time_since_exposure (1=0.5-1h, 2=1-3h, 3=&gt;3h)</th>\n",
       "      <th>Exposure_condition (1=Newly opened, 2=Exposed to moisture)</th>\n",
       "      <th>Delivery_method (1=Ingested directly, 2=Dissolved in water, 3=On food)</th>\n",
       "      <th>Dose_taken (in sachets)</th>\n",
       "      <th>Nausea</th>\n",
       "      <th>...</th>\n",
       "      <th>NLR_interpret</th>\n",
       "      <th>Platelets (x10^3)</th>\n",
       "      <th>PLR (Platelet-to-Lymph Ratio)</th>\n",
       "      <th>PLR_interpret</th>\n",
       "      <th>Survival (1=Survived, 0=Died)</th>\n",
       "      <th>Hospital_stay_days</th>\n",
       "      <th>Ventilation_days</th>\n",
       "      <th>ICU_stay_days</th>\n",
       "      <th>Need_vasopressors (1=Yes, 0=No)</th>\n",
       "      <th>NE_total_dose_at_discharge</th>\n",
       "    </tr>\n",
       "  </thead>\n",
       "  <tbody>\n",
       "    <tr>\n",
       "      <th>0</th>\n",
       "      <td>1</td>\n",
       "      <td>0</td>\n",
       "      <td>0</td>\n",
       "      <td>29.0</td>\n",
       "      <td>1</td>\n",
       "      <td>1</td>\n",
       "      <td>1</td>\n",
       "      <td>2</td>\n",
       "      <td>1.00</td>\n",
       "      <td>1</td>\n",
       "      <td>...</td>\n",
       "      <td>3</td>\n",
       "      <td>287</td>\n",
       "      <td>134.230</td>\n",
       "      <td>1</td>\n",
       "      <td>1</td>\n",
       "      <td>2</td>\n",
       "      <td>0</td>\n",
       "      <td>0</td>\n",
       "      <td>0</td>\n",
       "      <td>0</td>\n",
       "    </tr>\n",
       "    <tr>\n",
       "      <th>1</th>\n",
       "      <td>1</td>\n",
       "      <td>0</td>\n",
       "      <td>0</td>\n",
       "      <td>18.0</td>\n",
       "      <td>2</td>\n",
       "      <td>1</td>\n",
       "      <td>1</td>\n",
       "      <td>2</td>\n",
       "      <td>1.00</td>\n",
       "      <td>1</td>\n",
       "      <td>...</td>\n",
       "      <td>1</td>\n",
       "      <td>267</td>\n",
       "      <td>117.828</td>\n",
       "      <td>1</td>\n",
       "      <td>1</td>\n",
       "      <td>2</td>\n",
       "      <td>0</td>\n",
       "      <td>0</td>\n",
       "      <td>0</td>\n",
       "      <td>0</td>\n",
       "    </tr>\n",
       "    <tr>\n",
       "      <th>2</th>\n",
       "      <td>1</td>\n",
       "      <td>0</td>\n",
       "      <td>0</td>\n",
       "      <td>19.0</td>\n",
       "      <td>1</td>\n",
       "      <td>3</td>\n",
       "      <td>1</td>\n",
       "      <td>1</td>\n",
       "      <td>1.00</td>\n",
       "      <td>1</td>\n",
       "      <td>...</td>\n",
       "      <td>1</td>\n",
       "      <td>289</td>\n",
       "      <td>129.420</td>\n",
       "      <td>1</td>\n",
       "      <td>1</td>\n",
       "      <td>3</td>\n",
       "      <td>0</td>\n",
       "      <td>0</td>\n",
       "      <td>0</td>\n",
       "      <td>0</td>\n",
       "    </tr>\n",
       "    <tr>\n",
       "      <th>3</th>\n",
       "      <td>1</td>\n",
       "      <td>0</td>\n",
       "      <td>0</td>\n",
       "      <td>21.0</td>\n",
       "      <td>2</td>\n",
       "      <td>2</td>\n",
       "      <td>1</td>\n",
       "      <td>1</td>\n",
       "      <td>1.00</td>\n",
       "      <td>1</td>\n",
       "      <td>...</td>\n",
       "      <td>1</td>\n",
       "      <td>281</td>\n",
       "      <td>104.400</td>\n",
       "      <td>1</td>\n",
       "      <td>1</td>\n",
       "      <td>2</td>\n",
       "      <td>0</td>\n",
       "      <td>0</td>\n",
       "      <td>0</td>\n",
       "      <td>0</td>\n",
       "    </tr>\n",
       "    <tr>\n",
       "      <th>4</th>\n",
       "      <td>1</td>\n",
       "      <td>0</td>\n",
       "      <td>0</td>\n",
       "      <td>15.0</td>\n",
       "      <td>2</td>\n",
       "      <td>2</td>\n",
       "      <td>1</td>\n",
       "      <td>1</td>\n",
       "      <td>0.25</td>\n",
       "      <td>1</td>\n",
       "      <td>...</td>\n",
       "      <td>1</td>\n",
       "      <td>300</td>\n",
       "      <td>127.060</td>\n",
       "      <td>1</td>\n",
       "      <td>1</td>\n",
       "      <td>3</td>\n",
       "      <td>0</td>\n",
       "      <td>0</td>\n",
       "      <td>0</td>\n",
       "      <td>0</td>\n",
       "    </tr>\n",
       "  </tbody>\n",
       "</table>\n",
       "<p>5 rows × 77 columns</p>\n",
       "</div>"
      ],
      "text/plain": [
       "   poison severity score   NE_given (Norepinephrine)  \\\n",
       "0                       1                          0   \n",
       "1                       1                          0   \n",
       "2                       1                          0   \n",
       "3                       1                          0   \n",
       "4                       1                          0   \n",
       "\n",
       "   NaHCO3_given (Sodium Bicarbonate)  Age (in years)  Sex (1=Male, 2=Female)  \\\n",
       "0                                  0            29.0                       1   \n",
       "1                                  0            18.0                       2   \n",
       "2                                  0            19.0                       1   \n",
       "3                                  0            21.0                       2   \n",
       "4                                  0            15.0                       2   \n",
       "\n",
       "   Time_since_exposure (1=0.5-1h, 2=1-3h, 3=>3h)  \\\n",
       "0                                              1   \n",
       "1                                              1   \n",
       "2                                              3   \n",
       "3                                              2   \n",
       "4                                              2   \n",
       "\n",
       "   Exposure_condition (1=Newly opened, 2=Exposed to moisture)  \\\n",
       "0                                                  1            \n",
       "1                                                  1            \n",
       "2                                                  1            \n",
       "3                                                  1            \n",
       "4                                                  1            \n",
       "\n",
       "   Delivery_method (1=Ingested directly, 2=Dissolved in water, 3=On food)  \\\n",
       "0                                                  2                        \n",
       "1                                                  2                        \n",
       "2                                                  1                        \n",
       "3                                                  1                        \n",
       "4                                                  1                        \n",
       "\n",
       "   Dose_taken (in sachets)  Nausea  ...  NLR_interpret  Platelets (x10^3)   \\\n",
       "0                     1.00       1  ...              3                 287   \n",
       "1                     1.00       1  ...              1                 267   \n",
       "2                     1.00       1  ...              1                 289   \n",
       "3                     1.00       1  ...              1                 281   \n",
       "4                     0.25       1  ...              1                 300   \n",
       "\n",
       "   PLR (Platelet-to-Lymph Ratio) PLR_interpret  \\\n",
       "0                        134.230             1   \n",
       "1                        117.828             1   \n",
       "2                        129.420             1   \n",
       "3                        104.400             1   \n",
       "4                        127.060             1   \n",
       "\n",
       "   Survival (1=Survived, 0=Died)  Hospital_stay_days  Ventilation_days  \\\n",
       "0                               1                  2                 0   \n",
       "1                               1                  2                 0   \n",
       "2                               1                  3                 0   \n",
       "3                               1                  2                 0   \n",
       "4                               1                  3                 0   \n",
       "\n",
       "  ICU_stay_days  Need_vasopressors (1=Yes, 0=No) NE_total_dose_at_discharge  \n",
       "0             0                                0                          0  \n",
       "1             0                                0                          0  \n",
       "2             0                                0                          0  \n",
       "3             0                                0                          0  \n",
       "4             0                                0                          0  \n",
       "\n",
       "[5 rows x 77 columns]"
      ]
     },
     "execution_count": 2,
     "metadata": {},
     "output_type": "execute_result"
    }
   ],
   "source": [
    "file_path = \"zincphosph1.xlsx\"\n",
    "\n",
    "xls = pd.ExcelFile(file_path)\n",
    "sheet_names = xls.sheet_names\n",
    "\n",
    "dfs = [pd.read_excel(xls, sheet_name=sheet) for sheet in sheet_names]\n",
    "df_full = pd.concat(dfs, axis=1)\n",
    "\n",
    "print(\"✅ Data loaded successfully. Shape:\", df_full.shape)\n",
    "df_full.head()"
   ]
  },
  {
   "cell_type": "code",
   "execution_count": 3,
   "id": "092bac20",
   "metadata": {},
   "outputs": [
    {
     "name": "stdout",
     "output_type": "stream",
     "text": [
      "✅ Columns before exclusion: 76\n",
      "✅ Columns after exclusion: 36\n"
     ]
    }
   ],
   "source": [
    "target_col = \"Survival (1=Survived, 0=Died) \"\n",
    "\n",
    "y = df_full[target_col]\n",
    "X = df_full.drop(columns=[target_col])\n",
    "\n",
    "columns_to_exclude = [\n",
    "    \"Hospital_stay_days\", \"Ventilation_days\", \"ICU_stay_days\", \"Need_vasopressors (1=Yes, 0=No)\", \"NE_total_dose_at_discharge\",\n",
    "    \"last_PH\", \"last_PH_interpret\", \"last_PCO2\", \"last_PCO2_interpret\", \"last_HCO3\", \"last_HCO3_interpret\",\n",
    "    \"discharge_BP_systolic\", \"discharge_BP_systolic_interpret\", \"discharge_BP_diastolic\", \"discharge_BP_diastolic_interpret\",\n",
    "    \"discharge_BP_mean\", \"discharge_BP_mean_interpret\", \"discharge_RR\", \"discharge_RR_interpret\",\n",
    "    \"discharge_PULSE\", \"discharge_PULSE_interpret\"\n",
    "]\n",
    "\n",
    "X_cleaned = X.drop(columns=[col for col in columns_to_exclude if col in X.columns], errors='ignore')\n",
    "\n",
    "interpret_cols = [col for col in X_cleaned.columns if 'interpret' in col.lower()]\n",
    "X_cleaned = X_cleaned.drop(columns=interpret_cols)\n",
    "\n",
    "print(\"✅ Columns before exclusion:\", X.shape[1])\n",
    "print(\"✅ Columns after exclusion:\", X_cleaned.shape[1])"
   ]
  },
  {
   "cell_type": "code",
   "execution_count": 4,
   "id": "c77bd2fa",
   "metadata": {},
   "outputs": [
    {
     "name": "stdout",
     "output_type": "stream",
     "text": [
      "✅ Class distribution after balancing:\n",
      "Survival\n",
      "1    65\n",
      "0    65\n",
      "Name: count, dtype: int64\n"
     ]
    }
   ],
   "source": [
    "X_encoded = X_cleaned.copy()\n",
    "for col in X_encoded.columns:\n",
    "    if X_encoded[col].dtype == 'object':\n",
    "        le = LabelEncoder()\n",
    "        X_encoded[col] = le.fit_transform(X_encoded[col].astype(str))\n",
    "\n",
    "df_model = X_encoded.copy()\n",
    "df_model['Survival'] = y.values\n",
    "\n",
    "df_survived = df_model[df_model['Survival'] == 1]\n",
    "df_died = df_model[df_model['Survival'] == 0]\n",
    "\n",
    "df_died_upsampled = resample(\n",
    "    df_died,\n",
    "    replace=True,\n",
    "    n_samples=len(df_survived),\n",
    "    random_state=42\n",
    ")\n",
    "\n",
    "df_balanced = pd.concat([df_survived, df_died_upsampled])\n",
    "\n",
    "X_balanced = df_balanced.drop(columns=['Survival'])\n",
    "y_balanced = df_balanced['Survival']\n",
    "\n",
    "print(\"✅ Class distribution after balancing:\")\n",
    "print(y_balanced.value_counts())"
   ]
  },
  {
   "cell_type": "code",
   "execution_count": 5,
   "id": "cbf89d18",
   "metadata": {},
   "outputs": [
    {
     "name": "stdout",
     "output_type": "stream",
     "text": [
      "✅ Top 10 most important features:\n",
      "['RDW', 'HS_Troponin', 'poison severity score ', 'NE_given (Norepinephrine)', 'Creatinine ', 'BP_mean', 'discharge_PULSE ', 'PLR (Platelet-to-Lymph Ratio)', 'RBS', 'K']\n"
     ]
    }
   ],
   "source": [
    "X_train, X_test, y_train, y_test = train_test_split(\n",
    "    X_balanced, y_balanced, test_size=0.2, random_state=42\n",
    ")\n",
    "\n",
    "model = RandomForestClassifier(n_estimators=100, random_state=42)\n",
    "model.fit(X_train, y_train)\n",
    "\n",
    "importances = model.feature_importances_\n",
    "feat_importance = pd.Series(importances, index=X_balanced.columns).sort_values(ascending=False)\n",
    "\n",
    "top_10_features = feat_importance.head(10).index.tolist()\n",
    "\n",
    "print(\"✅ Top 10 most important features:\")\n",
    "print(top_10_features)"
   ]
  },
  {
   "cell_type": "code",
   "execution_count": 6,
   "id": "2a675afe",
   "metadata": {},
   "outputs": [
    {
     "name": "stdout",
     "output_type": "stream",
     "text": [
      "✅ Data shape after selecting top 10 features:\n",
      "(104, 10) (26, 10)\n"
     ]
    }
   ],
   "source": [
    "X_top10 = X_balanced[top_10_features]\n",
    "\n",
    "X_train, X_test, y_train, y_test = train_test_split(\n",
    "    X_top10, y_balanced, test_size=0.2, random_state=42\n",
    ")\n",
    "\n",
    "print(\"✅ Data shape after selecting top 10 features:\")\n",
    "print(X_train.shape, X_test.shape)"
   ]
  },
  {
   "cell_type": "code",
   "execution_count": 7,
   "id": "0b255709",
   "metadata": {},
   "outputs": [
    {
     "name": "stdout",
     "output_type": "stream",
     "text": [
      "✅ Final model trained successfully.\n"
     ]
    }
   ],
   "source": [
    "model_final = RandomForestClassifier(n_estimators=100, random_state=42)\n",
    "model_final.fit(X_train, y_train)\n",
    "\n",
    "print(\"✅ Final model trained successfully.\")"
   ]
  },
  {
   "cell_type": "code",
   "execution_count": 8,
   "id": "3e19d51c",
   "metadata": {},
   "outputs": [
    {
     "name": "stdout",
     "output_type": "stream",
     "text": [
      "✅ Evaluation Report:\n"
     ]
    },
    {
     "data": {
      "text/html": [
       "<div>\n",
       "<style scoped>\n",
       "    .dataframe tbody tr th:only-of-type {\n",
       "        vertical-align: middle;\n",
       "    }\n",
       "\n",
       "    .dataframe tbody tr th {\n",
       "        vertical-align: top;\n",
       "    }\n",
       "\n",
       "    .dataframe thead th {\n",
       "        text-align: right;\n",
       "    }\n",
       "</style>\n",
       "<table border=\"1\" class=\"dataframe\">\n",
       "  <thead>\n",
       "    <tr style=\"text-align: right;\">\n",
       "      <th></th>\n",
       "      <th>precision</th>\n",
       "      <th>recall</th>\n",
       "      <th>f1-score</th>\n",
       "      <th>support</th>\n",
       "    </tr>\n",
       "  </thead>\n",
       "  <tbody>\n",
       "    <tr>\n",
       "      <th>0</th>\n",
       "      <td>1.0</td>\n",
       "      <td>1.0</td>\n",
       "      <td>1.0</td>\n",
       "      <td>12.0</td>\n",
       "    </tr>\n",
       "    <tr>\n",
       "      <th>1</th>\n",
       "      <td>1.0</td>\n",
       "      <td>1.0</td>\n",
       "      <td>1.0</td>\n",
       "      <td>14.0</td>\n",
       "    </tr>\n",
       "    <tr>\n",
       "      <th>accuracy</th>\n",
       "      <td>1.0</td>\n",
       "      <td>1.0</td>\n",
       "      <td>1.0</td>\n",
       "      <td>1.0</td>\n",
       "    </tr>\n",
       "    <tr>\n",
       "      <th>macro avg</th>\n",
       "      <td>1.0</td>\n",
       "      <td>1.0</td>\n",
       "      <td>1.0</td>\n",
       "      <td>26.0</td>\n",
       "    </tr>\n",
       "    <tr>\n",
       "      <th>weighted avg</th>\n",
       "      <td>1.0</td>\n",
       "      <td>1.0</td>\n",
       "      <td>1.0</td>\n",
       "      <td>26.0</td>\n",
       "    </tr>\n",
       "  </tbody>\n",
       "</table>\n",
       "</div>"
      ],
      "text/plain": [
       "              precision  recall  f1-score  support\n",
       "0                   1.0     1.0       1.0     12.0\n",
       "1                   1.0     1.0       1.0     14.0\n",
       "accuracy            1.0     1.0       1.0      1.0\n",
       "macro avg           1.0     1.0       1.0     26.0\n",
       "weighted avg        1.0     1.0       1.0     26.0"
      ]
     },
     "execution_count": 8,
     "metadata": {},
     "output_type": "execute_result"
    }
   ],
   "source": [
    "y_pred = model_final.predict(X_test)\n",
    "\n",
    "report = classification_report(y_test, y_pred, output_dict=True)\n",
    "report_df = pd.DataFrame(report).transpose()\n",
    "\n",
    "print(\"✅ Evaluation Report:\")\n",
    "report_df"
   ]
  },
  {
   "cell_type": "code",
   "execution_count": 9,
   "id": "0260064e",
   "metadata": {},
   "outputs": [
    {
     "name": "stdout",
     "output_type": "stream",
     "text": [
      "✅ Report saved as 'classification_report_top10.csv'\n",
      "✅ Model saved as 'model_top10.pkl'\n"
     ]
    }
   ],
   "source": [
    "report_df.to_csv(\"classification_report_top10.csv\")\n",
    "with open(\"model_top10.pkl\", \"wb\") as f:\n",
    "    pickle.dump(model_final, f)\n",
    "\n",
    "print(\"✅ Report saved as 'classification_report_top10.csv'\")\n",
    "print(\"✅ Model saved as 'model_top10.pkl'\")"
   ]
  },
  {
   "cell_type": "code",
   "execution_count": 10,
   "id": "3fef8e4d",
   "metadata": {},
   "outputs": [
    {
     "data": {
      "image/png": "[encoded data removed]",
      "text/plain": [
       "<Figure size 1000x500 with 1 Axes>"
      ]
     },
     "metadata": {},
     "output_type": "display_data"
    },
    {
     "name": "stdout",
     "output_type": "stream",
     "text": [
      "✅ Feature importance plot saved as 'feature_importance_top10.png'\n"
     ]
    }
   ],
   "source": [
    "importances = model_final.feature_importances_\n",
    "feat_importance = pd.Series(importances, index=top_10_features).sort_values(ascending=False)\n",
    "\n",
    "plt.figure(figsize=(10, 5))\n",
    "feat_importance.plot(kind='bar')\n",
    "plt.title(\"Top 10 Feature Importances\")\n",
    "plt.ylabel(\"Importance\")\n",
    "plt.tight_layout()\n",
    "plt.savefig(\"feature_importance_top10.png\")\n",
    "plt.show()\n",
    "\n",
    "print(\"✅ Feature importance plot saved as 'feature_importance_top10.png'\")"
   ]
  }
 ],
 "metadata": {
  "kernelspec": {
   "display_name": "Python 3",
   "language": "python",
   "name": "python3"
  },
  "language_info": {
   "codemirror_mode": {
    "name": "ipython",
    "version": 3
   },
   "file_extension": ".py",
   "mimetype": "text/x-python",
   "name": "python",
   "nbconvert_exporter": "python",
   "pygments_lexer": "ipython3",
   "version": "3.12.3"
  }
 },
 "nbformat": 4,
 "nbformat_minor": 5
}
